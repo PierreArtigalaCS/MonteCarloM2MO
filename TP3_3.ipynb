{
 "cells": [
  {
   "attachments": {},
   "cell_type": "markdown",
   "metadata": {},
   "source": [
    "<a id='top'></a>\n",
    "\n",
    "# Méthodes de Monte-Carlo en Finance\n",
    "\n",
    "# Projet 2 : Option barrière et diffusion tuée\n",
    "\n",
    "Pierre ARTIGALA - Omar MANSOUR"
   ]
  },
  {
   "attachments": {},
   "cell_type": "markdown",
   "metadata": {},
   "source": [
    "## Consignes\n",
    "\n",
    "Ce projet a pour but d'étudier le calcul du prix de certaines options barrières par méthode de Monte Carlo. Il se fonde sur l'article \"Weak approximation of killed diffusion using Euler schemes\" qui étudie deux méthodes de simulations. Votre rapport comportera au minimum :\n",
    "- Une présentation du prix des options barrières dans le modèle de Black-Scholes pour obtenir des formules fermées.\n",
    "- Une présentation des deux méthodes de l'article en commentant les démarches de preuves.\n",
    "- Des simulatons testant ces méthodes (contre le formules fermées)."
   ]
  },
  {
   "attachments": {},
   "cell_type": "markdown",
   "metadata": {},
   "source": [
    "# Table of contents\n",
    "\n",
    "## [Imports](#imports)\n",
    "## [1. Prix des options barrières dans le modèle de Black-Scholes - Formules fermées](#part1)\n",
    "## [2. Méthodes de Monte Carlo (article)](#part2)\n",
    "## [3. Comparaison des différentes méthodes](#part3)"
   ]
  },
  {
   "attachments": {},
   "cell_type": "markdown",
   "metadata": {},
   "source": [
    "<a id='imports'></a>\n",
    "\n",
    "# Imports [[^]](#top)"
   ]
  },
  {
   "cell_type": "code",
   "execution_count": 1,
   "metadata": {},
   "outputs": [],
   "source": [
    "import numpy as np\n",
    "from scipy.stats import norm"
   ]
  },
  {
   "attachments": {},
   "cell_type": "markdown",
   "metadata": {},
   "source": [
    "<a id='part1'></a>\n",
    "\n",
    "# 1. Prix des options barrières dans le modèle de Black-Scholes - Formules fermées [[^]](#top)"
   ]
  },
  {
   "cell_type": "code",
   "execution_count": 104,
   "metadata": {},
   "outputs": [],
   "source": [
    "def delta_plus(\n",
    "    s: float,\n",
    "    T: float,\n",
    "    r: float,\n",
    "    sigma: float\n",
    "):\n",
    "    \"\"\"Compute delta_plus.\"\"\"\n",
    "    return (np.log(s) + (r + sigma**2) * T) / (sigma * T)\n",
    "\n",
    "\n",
    "def delta_minus(\n",
    "    s: float,\n",
    "    T: float,\n",
    "    r: float,\n",
    "    sigma: float\n",
    "):\n",
    "    \"\"\"Compute delta_minus.\"\"\"\n",
    "    return (np.log(s) + (r - sigma**2) * T) / (sigma * T)\n",
    "\n",
    "\n",
    "def call(\n",
    "    S: float, \n",
    "    K: float,\n",
    "    T: float,\n",
    "    r: float,\n",
    "    sigma: float\n",
    "):\n",
    "    \"\"\"Black-Scholes closed formula for a call option.\"\"\"\n",
    "    return S * norm.cdf(delta_plus(s=S/K, T=T, r=r, sigma=sigma)) - np.exp(-r*T) * K * norm.cdf(delta_minus(s=S/K, T=T, r=r, sigma=sigma))\n",
    "\n",
    "\n",
    "def put(\n",
    "    S: float, \n",
    "    K: float,\n",
    "    T: float,\n",
    "    r: float,\n",
    "    sigma: float\n",
    "):\n",
    "    \"\"\"Black-Scholes closed formula for a put option.\"\"\"\n",
    "    return np.exp(-r*T) * K * norm.cdf(-delta_minus(s=S/K, T=T, r=r, sigma=sigma)) - S * norm.cdf(-delta_plus(s=S/K, T=T, r=r, sigma=sigma))\n"
   ]
  },
  {
   "attachments": {},
   "cell_type": "markdown",
   "metadata": {},
   "source": [
    "## Knock-Out Barrier"
   ]
  },
  {
   "cell_type": "markdown",
   "metadata": {},
   "source": [
    "Formules basées sur : https://personal.ntu.edu.sg/nprivault/MA5182/barrier-options.pdf\n",
    "\n",
    "ÉCRIRE LES PRIX ET DÉCIDER DE SI ON DOIT INCLURE LA DÉMONSTRATION POUR AU MOINS UN PRIX."
   ]
  },
  {
   "cell_type": "code",
   "execution_count": null,
   "metadata": {},
   "outputs": [],
   "source": [
    "def up_out_call(\n",
    "    S: float, \n",
    "    K: float,\n",
    "    B: float,\n",
    "    T: float,\n",
    "    r: float,\n",
    "    sigma: float\n",
    "):\n",
    "    \"\"\"Black-Scholes closed formula for an up-and-out call option.\"\"\"\n",
    "    # If the price is breaking the barrier already, the value is zero\n",
    "    if S >= B:\n",
    "        return 0\n",
    "    # If the up-and-out barrier is lower than the strike, the price is zero (the payoff can only be zero)\n",
    "    if B <= K:\n",
    "        return 0\n",
    "    else:\n",
    "        return S * (- norm.cdf(delta_plus(s=S / B, T=T, r=r, sigma=sigma)) - \n",
    "        ((B / S) ** (1+2*r/(sigma**2))) * (norm.cdf(delta_plus(s=B**2/(K*S), T=T, r=r, sigma=sigma)) - norm.cdf(delta_plus(s=B / S, T=T, r=r, sigma=sigma)))) - np.exp(-r*T) * K * (\n",
    "            - norm.cdf(delta_minus(s=S / B, T=T, r=r, sigma=sigma)) - \n",
    "        ((S / B) ** (1-2*r/(sigma**2))) * (norm.cdf(delta_minus(s=B**2/(K*S), T=T, r=r, sigma=sigma)) - norm.cdf(delta_minus(s=B / S, T=T, r=r, sigma=sigma)))\n",
    "        ) + call(S=S, K=K, T=T, r=r, sigma=sigma)\n",
    "\n",
    "\n",
    "def up_out_put(\n",
    "    S: float, \n",
    "    K: float,\n",
    "    B: float,\n",
    "    T: float,\n",
    "    r: float,\n",
    "    sigma: float\n",
    "):\n",
    "    \"\"\"Black-Scholes closed formula for an up-and-out put option.\"\"\"\n",
    "    # If the price is breaking the barrier already, the value is zero\n",
    "    if S >= B:\n",
    "        return 0\n",
    "    if B <= K:\n",
    "        return S * (norm.cdf(delta_plus(s=S / B, T=T, r=r, sigma=sigma)) - 1 - (B / S) ** (1+2*r/(sigma**2)) * (norm.cdf(delta_plus(s=B/S, T=T, r=r, sigma=sigma)) - 1)) - K * np.exp(-r*T) * (\n",
    "        norm.cdf(delta_minus(s=S / B, T=T, r=r, sigma=sigma)) - 1 - (S / B) ** (1-2*r/(sigma**2)) * (norm.cdf(delta_plus(s=B/S, T=T, r=r, sigma=sigma)) - 1)\n",
    "        )\n",
    "    else:\n",
    "        return S * (norm.cdf(delta_plus(s=S / K, T=T, r=r, sigma=sigma)) - 1 - (B / S) ** (1+2*r/(sigma**2)) * (norm.cdf(delta_plus(s=B**2/(K*S), T=T, r=r, sigma=sigma)) - 1)) - K * np.exp(-r*T) * (\n",
    "        norm.cdf(delta_minus(s=S / K, T=T, r=r, sigma=sigma)) - 1 - (S / B) ** (1-2*r/(sigma**2)) * (norm.cdf(delta_plus(s=B**2/(K*S), T=T, r=r, sigma=sigma)) - 1)\n",
    "        )\n",
    "\n",
    "\n",
    "def down_out_call(\n",
    "    S: float, \n",
    "    K: float,\n",
    "    B: float,\n",
    "    T: float,\n",
    "    r: float,\n",
    "    sigma: float\n",
    "):\n",
    "    \"\"\"Black-Scholes closed formula for an down-and-out call option.\"\"\"\n",
    "    # If the price is breaking the barrier already, the value is zero\n",
    "    if S <= B:\n",
    "        return 0\n",
    "    if B <= K:\n",
    "        return call(S=S, K=K, T=T, r=r, sigma=sigma) - S * (B/S)**(2*r/sigma**2) * call(S=B/S, K=K/B, T=T, r=r, sigma=sigma)\n",
    "    else:\n",
    "        return S * norm.cdf(delta_plus(s=S/B, T=T, r=r, sigma=sigma\n",
    "        )) - K * np.exp(-r*T) * norm.cdf(delta_minus(s=S/B, T=T, r=r, sigma=sigma\n",
    "        )) - B * (B/S)**(2*r/(sigma**2)) * norm.cdf(delta_plus(s=B/S, T=T, r=r, sigma=sigma\n",
    "        )) + K * np.exp(-r*T) * (S/B)**(1-2*r/(sigma**2)) * norm.cdf(delta_minus(s=B/S, T=T, r=r, sigma=sigma))\n",
    "\n",
    "\n",
    "def down_out_put(\n",
    "    S: float, \n",
    "    K: float,\n",
    "    B: float,\n",
    "    T: float,\n",
    "    r: float,\n",
    "    sigma: float\n",
    "):\n",
    "    \"\"\"Black-Scholes closed formula for an down-and-out put option.\"\"\"\n",
    "    # If the price is breaking the barrier already, the value is zero\n",
    "    if S <= B:\n",
    "        return 0\n",
    "    if B >= K:\n",
    "        return 0\n",
    "    else:\n",
    "        return put(S=S, K=K, T=T, r=r, sigma=sigma) + S * norm.cdf(-delta_plus(s=S/B, T=T, r=r, sigma=sigma\n",
    "        )) - B * (B/S)**(2*r/(sigma**2)) * (norm.cdf(delta_plus(s=B**2/(K*S), T=T, r=r, sigma=sigma)) - norm.cdf(delta_plus(s=B/S, T=T, r=r, sigma=sigma))\n",
    "        ) - K * np.exp(-r*T) * norm.cdf(-delta_minus(s=S/B, T=T, r=r, sigma=sigma\n",
    "        )) + K * np.exp(-r*T) * (S/B)**(1-2*r/(sigma**2)) * (norm.cdf(delta_minus(s=B**2/(K*S), T=T, r=r, sigma=sigma)) - norm.cdf(delta_minus(s=B/S, T=T, r=r, sigma=sigma))\n",
    "        )"
   ]
  },
  {
   "cell_type": "code",
   "execution_count": 117,
   "metadata": {},
   "outputs": [
    {
     "data": {
      "text/plain": [
       "0"
      ]
     },
     "execution_count": 117,
     "metadata": {},
     "output_type": "execute_result"
    }
   ],
   "source": [
    "S = 80\n",
    "K = 79\n",
    "B = 70\n",
    "T = 100 / 365\n",
    "r = 0.05\n",
    "sigma = 0.1\n",
    "\n",
    "price = up_out_call(S=S, K=K, B=B, T=T, r=r, sigma=sigma)\n",
    "price"
   ]
  },
  {
   "attachments": {},
   "cell_type": "markdown",
   "metadata": {},
   "source": [
    "## Knock-In Barrier"
   ]
  },
  {
   "attachments": {},
   "cell_type": "markdown",
   "metadata": {},
   "source": [
    "Formules basées sur https://www.asc.tuwien.ac.at/~juengel/simulations/fincalculator/doc/Barrier.pdf\n",
    "\n",
    "Je suis un peu étonné parce que les formules comme c_ui = c - c_uo sont valables pour tout K, B (X, H dans le document) mais il garde la disjonction de cas H < B vs H >= B au lieu de simplifier..."
   ]
  },
  {
   "cell_type": "code",
   "execution_count": 118,
   "metadata": {},
   "outputs": [],
   "source": [
    "def down_in_call(\n",
    "    S: float, \n",
    "    K: float,\n",
    "    B: float,\n",
    "    T: float,\n",
    "    r: float,\n",
    "    sigma: float\n",
    "):\n",
    "    \"\"\"\n",
    "    Black-Scholes closed formula for an down-and-in call option.\n",
    "    c_di = c - c_do\n",
    "    \"\"\"\n",
    "    return call(S=S, K=K, T=T, r=r, sigma=sigma) - down_out_call(S=S, K=K, B=B, T=T, r=r, sigma=sigma)\n",
    "\n",
    "\n",
    "def down_in_put(\n",
    "    S: float, \n",
    "    K: float,\n",
    "    B: float,\n",
    "    T: float,\n",
    "    r: float,\n",
    "    sigma: float\n",
    "):\n",
    "    \"\"\"\n",
    "    Black-Scholes closed formula for an down-and-in put option.\n",
    "    p_di = p - p_do\n",
    "    \"\"\"\n",
    "    return put(S=S, K=K, T=T, r=r, sigma=sigma) - down_out_put(S=S, K=K, B=B, T=T, r=r, sigma=sigma)\n",
    "\n",
    "\n",
    "def up_in_call(\n",
    "    S: float, \n",
    "    K: float,\n",
    "    B: float,\n",
    "    T: float,\n",
    "    r: float,\n",
    "    sigma: float\n",
    "):\n",
    "    \"\"\"\n",
    "    Black-Scholes closed formula for an up-and-in call option.\n",
    "    c_ui = c - c_uo\n",
    "    \"\"\"\n",
    "    return call(S=S, K=K, T=T, r=r, sigma=sigma) - up_out_call(S=S, K=K, B=B, T=T, r=r, sigma=sigma)\n",
    "\n",
    "\n",
    "def up_in_put(\n",
    "    S: float, \n",
    "    K: float,\n",
    "    B: float,\n",
    "    T: float,\n",
    "    r: float,\n",
    "    sigma: float\n",
    "):\n",
    "    \"\"\"\n",
    "    Black-Scholes closed formula for an up-and-in call option.\n",
    "    p_ui = p - p_uo\n",
    "    \"\"\"\n",
    "    return put(S=S, K=K, T=T, r=r, sigma=sigma) - up_out_put(S=S, K=K, B=B, T=T, r=r, sigma=sigma)"
   ]
  },
  {
   "cell_type": "code",
   "execution_count": 127,
   "metadata": {},
   "outputs": [
    {
     "data": {
      "text/plain": [
       "0.008645082249772507"
      ]
     },
     "execution_count": 127,
     "metadata": {},
     "output_type": "execute_result"
    }
   ],
   "source": [
    "S = 60\n",
    "K = 65\n",
    "B = 67\n",
    "T = 100 / 365\n",
    "r = 0.05\n",
    "sigma = 0.1\n",
    "\n",
    "price = up_in_call(S=S, K=K, B=B, T=T, r=r, sigma=sigma)\n",
    "price"
   ]
  },
  {
   "cell_type": "code",
   "execution_count": null,
   "metadata": {},
   "outputs": [],
   "source": []
  },
  {
   "cell_type": "code",
   "execution_count": null,
   "metadata": {},
   "outputs": [],
   "source": []
  },
  {
   "attachments": {},
   "cell_type": "markdown",
   "metadata": {},
   "source": [
    "# Draft"
   ]
  },
  {
   "cell_type": "code",
   "execution_count": null,
   "metadata": {},
   "outputs": [],
   "source": []
  },
  {
   "cell_type": "code",
   "execution_count": null,
   "metadata": {},
   "outputs": [],
   "source": []
  },
  {
   "attachments": {},
   "cell_type": "markdown",
   "metadata": {},
   "source": [
    "TO DO:\n",
    "- Plot price surfaces and compare to the article.\n",
    "- Decide what should be included in the report and write the corresponding Latex.\n",
    "\n",
    "DONE:\n",
    "- Implementation of all the barrier options closed formulas in the Black-Scholes model."
   ]
  }
 ],
 "metadata": {
  "kernelspec": {
   "display_name": "Python 3",
   "language": "python",
   "name": "python3"
  },
  "language_info": {
   "codemirror_mode": {
    "name": "ipython",
    "version": 3
   },
   "file_extension": ".py",
   "mimetype": "text/x-python",
   "name": "python",
   "nbconvert_exporter": "python",
   "pygments_lexer": "ipython3",
   "version": "3.9.6"
  },
  "orig_nbformat": 4,
  "vscode": {
   "interpreter": {
    "hash": "31f2aee4e71d21fbe5cf8b01ff0e069b9275f58929596ceb00d14d90e3e16cd6"
   }
  }
 },
 "nbformat": 4,
 "nbformat_minor": 2
}
