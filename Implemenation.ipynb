{
 "cells": [
  {
   "cell_type": "markdown",
   "id": "74788a80",
   "metadata": {},
   "source": [
    "Ce notebook contient l'implémentation des méthodes présentées dans l'article :"
   ]
  },
  {
   "cell_type": "code",
   "execution_count": 1,
   "id": "0862bb53",
   "metadata": {},
   "outputs": [],
   "source": [
    "import numpy as np\n",
    "\n",
    "import matplotlib.pyplot as plt\n",
    "\n",
    "from time import time\n",
    "\n",
    "from warnings import filterwarnings, warn\n",
    "filterwarnings('ignore')\n",
    "\n",
    "plt.rcParams[\"figure.figsize\"] = (20,8)\n",
    "plt.style.use('ggplot')"
   ]
  },
  {
   "cell_type": "markdown",
   "id": "3c4d9840",
   "metadata": {},
   "source": [
    "# Discrete case"
   ]
  },
  {
   "cell_type": "markdown",
   "id": "f5be795e",
   "metadata": {},
   "source": [
    "Ici, on implémente le schéma d'Euler pour la méthode discrète :\n",
    "\n",
    "Le schéma d'Euler correspondant est le suivant (en reprenant les notations de l'article) :\n",
    "\n",
    "$$\n",
    "\\left\\{\n",
    "    \\begin{array}{ll}\n",
    "        \\tilde{X}_0 & = x \\\\\n",
    "        \\tilde{X}_{t_{i+1}} & = \\tilde{X}_{t_{i}} + B(\\tilde{X}_{t_{i}}) \\frac{T}{N} + \\sigma(\\tilde{X}_{t_{i}}) (W_{t_{i+1}} - W_{t_{i}})\n",
    "    \\end{array}\n",
    "\\right.\n",
    "$$"
   ]
  },
  {
   "cell_type": "markdown",
   "id": "5ba3f1a3",
   "metadata": {},
   "source": [
    "La fonction suivante prend en paramètres :\n",
    "\n",
    "- Le point de départ du process $x$\n",
    "- Les fonctions $B$ et $\\sigma$ (qui doivent vérifier des hypothèses dévelopépes dans l'article)\n",
    "- $T$ : L'échéance de temps du process\n",
    "- $N$ : le nombre de pas de discrétisation temporelle\n",
    "- $M$ : Le nombre de simulations souhaitées\n",
    "- $D$ : Le domaine où le process doit rester contenu pour ne pas l'annuler"
   ]
  },
  {
   "cell_type": "markdown",
   "id": "ad0b2986",
   "metadata": {},
   "source": [
    "Nous allons commencer avec une implémentation générale qui dépendra des fonctions $B$ et $\\sigma$. Cette méthode s'avère ne pas être la plus optimale pour le cas Black-Scholes qui peut être calculée avec les fonctions vectorisées de Numpy au lieu d'avoir recours à des boucles."
   ]
  },
  {
   "cell_type": "markdown",
   "id": "7c260402",
   "metadata": {},
   "source": [
    "Dans un but d'optimisation du code, les fonctions $B$ et $\\sigma$ doivent être vectorisées afin d'être appliquées à tout le vecteur de la simulation sans passer par une boucle."
   ]
  },
  {
   "cell_type": "code",
   "execution_count": 2,
   "id": "a1631cbe",
   "metadata": {},
   "outputs": [],
   "source": [
    "def indicatrice_outside_domaine(X, D : tuple):\n",
    "    borne_min = min(D)\n",
    "    borne_max = max(D)\n",
    "    \n",
    "    return np.where((borne_min < X) & (X < borne_max), False, True)"
   ]
  },
  {
   "cell_type": "code",
   "execution_count": 3,
   "id": "be798a1c",
   "metadata": {},
   "outputs": [],
   "source": [
    "def discrete_barrier(x : float, \n",
    "                     T : float, \n",
    "                     N : int, \n",
    "                     M : int, \n",
    "                     D : tuple, \n",
    "                     B, \n",
    "                     sigma):\n",
    "    \n",
    "    X = np.ones(M) * x\n",
    "    dt = T/N\n",
    "    \n",
    "    borne_min = min(D)\n",
    "    borne_max = max(D)\n",
    "    \n",
    "    if borne_min <= x <= borne_max:\n",
    "        went_outside = np.zeros(M).astype('bool')\n",
    "    else:\n",
    "        went_outside = np.ones(M).astype('bool')\n",
    "        warn(\"Warning : The starting position of the process is outside the domain.\")\n",
    "        \n",
    "    for i in range(N):\n",
    "        X = X + B(X) * dt + sigma(X) * np.random.normal(size=M) * np.sqrt(dt)\n",
    "        \n",
    "        went_outside = indicatrice_outside_domaine(X, D) | went_outside   # This is the logical OR\n",
    "    \n",
    "    return X, went_outside        "
   ]
  },
  {
   "cell_type": "markdown",
   "id": "ad0bded7",
   "metadata": {},
   "source": [
    "## Test on Black_scholes"
   ]
  },
  {
   "cell_type": "markdown",
   "id": "31355c26",
   "metadata": {},
   "source": [
    "### Simulation"
   ]
  },
  {
   "cell_type": "code",
   "execution_count": 4,
   "id": "5a8f590c",
   "metadata": {},
   "outputs": [],
   "source": [
    "# Risk-free rate\n",
    "r = 0.05\n",
    "\n",
    "# Volatility\n",
    "vol = 0.2"
   ]
  },
  {
   "cell_type": "code",
   "execution_count": 5,
   "id": "a8684e3c",
   "metadata": {},
   "outputs": [],
   "source": [
    "def b_black_scholes(X, b=r):\n",
    "    return b * X\n",
    "\n",
    "def sigma_black_scholes(X, sigma=vol):\n",
    "    return sigma * X"
   ]
  },
  {
   "cell_type": "code",
   "execution_count": 6,
   "id": "c60239ee",
   "metadata": {},
   "outputs": [],
   "source": [
    "# Starting point\n",
    "x = 100\n",
    "\n",
    "# Time\n",
    "T = 1\n",
    "\n",
    "# Number of time steps\n",
    "N = 1000\n",
    "\n",
    "# Number of simulations\n",
    "M = 10000\n",
    "\n",
    "# Domain\n",
    "D = (-np.inf, 150)\n",
    "\n",
    "\n",
    "# Functions\n",
    "# For testing purposes, we will first test with the B and sigma functions from Black-Scholes\n",
    "\n",
    "XT, went_outside = discrete_barrier(x, T, N, M, D, b_black_scholes, sigma_black_scholes)"
   ]
  },
  {
   "cell_type": "markdown",
   "id": "e86f7fbe",
   "metadata": {},
   "source": [
    "Nous obtenous alors deux variables. La première `XT` contient la liste des valeurs $X_T$. La deuxieme `went_outisde` contient la liste des valeurs booléennes de si le process est sorti du domaine ou non.\n",
    "\n",
    "Nous pouvons à présent calculer la valeur du call knock-out :"
   ]
  },
  {
   "cell_type": "code",
   "execution_count": 7,
   "id": "c4edf2fc",
   "metadata": {},
   "outputs": [],
   "source": [
    "def call_price(r, T, XT, K, went_outside):\n",
    "    premium = np.maximum(XT * went_outside.astype('int') - K, 0)\n",
    "    price = np.mean(premium)\n",
    "    actualized_price = np.exp(-r*T) * price\n",
    "    \n",
    "    return actualized_price"
   ]
  },
  {
   "cell_type": "markdown",
   "id": "83de2b7f",
   "metadata": {},
   "source": [
    "A partir de la simulation pour le prix Black-Scholes, nous calculons un prix de l'option de :"
   ]
  },
  {
   "cell_type": "code",
   "execution_count": 8,
   "id": "6cecf4eb",
   "metadata": {},
   "outputs": [],
   "source": [
    "# Strike\n",
    "K = 110"
   ]
  },
  {
   "cell_type": "code",
   "execution_count": 9,
   "id": "2a3a90b4",
   "metadata": {},
   "outputs": [
    {
     "data": {
      "text/plain": [
       "2.2205302212477673"
      ]
     },
     "execution_count": 9,
     "metadata": {},
     "output_type": "execute_result"
    }
   ],
   "source": [
    "call_price(r, T, XT, K, went_outside)"
   ]
  },
  {
   "cell_type": "markdown",
   "id": "f24d0153",
   "metadata": {},
   "source": [
    "# Continuous case"
   ]
  },
  {
   "cell_type": "markdown",
   "id": "c22a4470",
   "metadata": {},
   "source": [
    "La différence majeure entre ce cas et le cas discret est qu'on s'intéresse maintenant à ce qui se passe entre les instants de la discrétisation.\n",
    "\n",
    "En reprenant les notations de l'article, nous avons :\n",
    "\n",
    "$$ p(z_1, z_2, \\Delta) := \\mathbb{P}(\\forall t \\in [z_1, z_2], \\tilde{X}_t \\in D | \\tilde{X}_{t_{i}} = z_1, \\tilde{X}_{t_{i+1}} = z_2)$$\n",
    "\n",
    "Ici, $\\Delta = \\frac{T}{N} $."
   ]
  },
  {
   "cell_type": "markdown",
   "id": "7e7cbf0a",
   "metadata": {},
   "source": [
    "Implémentons la fonction $p$ :"
   ]
  },
  {
   "cell_type": "code",
   "execution_count": 10,
   "id": "490afb4b",
   "metadata": {},
   "outputs": [],
   "source": [
    "def p(z1, z2, dt, D, sigma):\n",
    "    # D = [a, b]\n",
    "    a = min(D)\n",
    "    b = max(D)\n",
    "    \n",
    "    if np.isneginf(a):\n",
    "        num = (b - z1)(b - z2)\n",
    "        denom = sigma(z1) * sigma(z1) * dt\n",
    "        p = 1 - np.exp(-2 * num/denom)\n",
    "        \n",
    "        p = np.where(b > z1, 1, 0) * np.where(b > z2, 1, 0) * p\n",
    "    \n",
    "    elif np.isposinf(b):\n",
    "        num = (a - z1)(a - z2)\n",
    "        denom = sigma(z1) * sigma(z1) * dt\n",
    "        p = 1 - np.exp(-2 * num/denom)\n",
    "        \n",
    "        p = np.where(z1 > a, 1, 0) * np.where(z2 > a, 1, 0) * p\n",
    "    \n",
    "    else:\n",
    "        raise ValueError(\"D must have one of its boundaries set as +/- infinity.\")\n",
    "    \n",
    "    return p"
   ]
  },
  {
   "cell_type": "markdown",
   "id": "70ce81cd",
   "metadata": {},
   "source": [
    "Les valeurs de $p$ seront ensuite utilisée afin de générer des échantillons de distributions de Bernoulli de paparmètre $p$. Ces échantillons indiquent si le process est sorti du domaine ou non."
   ]
  },
  {
   "cell_type": "code",
   "execution_count": 11,
   "id": "bb169d78",
   "metadata": {},
   "outputs": [],
   "source": [
    "def continuous_barrier(x : float, \n",
    "                       T : float, \n",
    "                       N : int, \n",
    "                       M : int, \n",
    "                       D : tuple, \n",
    "                       B, \n",
    "                       sigma):\n",
    "    \n",
    "    X = np.ones(M) * x\n",
    "    dt = T/N\n",
    "    \n",
    "    borne_min = min(D)\n",
    "    borne_max = max(D)\n",
    "    \n",
    "    if borne_min <= x <= borne_max:\n",
    "        went_outside = np.zeros(M).astype('bool')\n",
    "    else:\n",
    "        went_outside = np.ones(M).astype('bool')\n",
    "        warn(\"Warning : The starting position of the process is outside the domain.\")\n",
    "        \n",
    "    for i in range(N):\n",
    "        past_X = X\n",
    "        X = X + B(X) * dt + sigma(X) * np.random.normal(size=M) * np.sqrt(dt)\n",
    "        \n",
    "        bernoulli_p = p(past_X, X, dt, D, sigma)\n",
    "        went_outside_between = np.random.binomial(1, bernoulli_p, size=N)\n",
    "        \n",
    "        went_outside = indicatrice_outside_domaine(X, D) | went_outside   # For the particular dsicrete values\n",
    "        went_outside = went_outside | went_outside_between                # Between those values\n",
    "    \n",
    "    return X, went_outside        "
   ]
  },
  {
   "cell_type": "code",
   "execution_count": 12,
   "id": "9a52c269",
   "metadata": {},
   "outputs": [],
   "source": [
    "XT, went_outside = discrete_barrier(x, T, N, M, D, b_black_scholes, sigma_black_scholes)"
   ]
  },
  {
   "cell_type": "code",
   "execution_count": 13,
   "id": "b956339a",
   "metadata": {},
   "outputs": [
    {
     "data": {
      "text/plain": [
       "2.2697311765279164"
      ]
     },
     "execution_count": 13,
     "metadata": {},
     "output_type": "execute_result"
    }
   ],
   "source": [
    "call_price(r, T, XT, K, went_outside)"
   ]
  }
 ],
 "metadata": {
  "kernelspec": {
   "display_name": "Python 3 (ipykernel)",
   "language": "python",
   "name": "python3"
  },
  "language_info": {
   "codemirror_mode": {
    "name": "ipython",
    "version": 3
   },
   "file_extension": ".py",
   "mimetype": "text/x-python",
   "name": "python",
   "nbconvert_exporter": "python",
   "pygments_lexer": "ipython3",
   "version": "3.9.15"
  }
 },
 "nbformat": 4,
 "nbformat_minor": 5
}
